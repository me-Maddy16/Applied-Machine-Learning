{
 "cells": [
  {
   "cell_type": "code",
   "execution_count": 78,
   "id": "a46126a3",
   "metadata": {},
   "outputs": [],
   "source": [
    "# Import pandas and numpy\n",
    "\n",
    "import numpy as np \n",
    "import pandas as pd\n",
    "\n",
    "# Import matplotlib and seaborn for plotting and to specify that graphs should be plotted inline\n",
    "\n",
    "import seaborn as sns\n",
    "import matplotlib.pyplot as plt\n",
    "%matplotlib inline\n",
    "\n",
    "import warnings\n",
    "warnings.filterwarnings('ignore')\n",
    "\n",
    "# Import libraries to generate models\n",
    "from imblearn.over_sampling import RandomOverSampler\n",
    "from sklearn.preprocessing import MinMaxScaler\n",
    "from sklearn.model_selection import train_test_split\n",
    "from sklearn.neural_network import MLPClassifier\n",
    "from sklearn.metrics import accuracy_score\n",
    "from sklearn.decomposition import PCA\n",
    "from sklearn.linear_model import LogisticRegression\n",
    "from sklearn.metrics import roc_auc_score\n",
    "from sklearn.metrics import confusion_matrix\n",
    "from sklearn.naive_bayes import CategoricalNB\n",
    "from sklearn.model_selection import GridSearchCV\n",
    "from sklearn.tree import DecisionTreeClassifier\n",
    "from sklearn import tree\n",
    "from sklearn.ensemble import RandomForestClassifier\n",
    "from sklearn.model_selection import GridSearchCV\n",
    "from sklearn.svm import LinearSVC\n",
    "from sklearn.svm import SVC\n",
    "from sklearn.ensemble import AdaBoostClassifier\n",
    "\n",
    "# Type it in the first cell of your notebook, then your matplotlib plots will be included next to your codes. \n",
    "# Otherwise, include plt.show()\n",
    "\n",
    "pd.set_option('display.max_rows', None)\n"
   ]
  },
  {
   "cell_type": "code",
   "execution_count": null,
   "id": "afa7ee72",
   "metadata": {},
   "outputs": [],
   "source": [
    "# Read the csv file to store it under the name df\n",
    "\n",
    "df=pd.read_csv(\"online_shoppers_intention.csv\")"
   ]
  },
  {
   "cell_type": "code",
   "execution_count": null,
   "id": "fbd03ad2",
   "metadata": {},
   "outputs": [],
   "source": [
    "# Data Preprocessing\n",
    "\n",
    "print(df.shape)"
   ]
  },
  {
   "cell_type": "code",
   "execution_count": 6,
   "id": "9d4fe56b",
   "metadata": {},
   "outputs": [
    {
     "data": {
      "text/html": [
       "<div>\n",
       "<style scoped>\n",
       "    .dataframe tbody tr th:only-of-type {\n",
       "        vertical-align: middle;\n",
       "    }\n",
       "\n",
       "    .dataframe tbody tr th {\n",
       "        vertical-align: top;\n",
       "    }\n",
       "\n",
       "    .dataframe thead th {\n",
       "        text-align: right;\n",
       "    }\n",
       "</style>\n",
       "<table border=\"1\" class=\"dataframe\">\n",
       "  <thead>\n",
       "    <tr style=\"text-align: right;\">\n",
       "      <th></th>\n",
       "      <th>Administrative</th>\n",
       "      <th>Administrative_Duration</th>\n",
       "      <th>Informational</th>\n",
       "      <th>Informational_Duration</th>\n",
       "      <th>ProductRelated</th>\n",
       "      <th>ProductRelated_Duration</th>\n",
       "      <th>BounceRates</th>\n",
       "      <th>ExitRates</th>\n",
       "      <th>PageValues</th>\n",
       "      <th>SpecialDay</th>\n",
       "      <th>Month</th>\n",
       "      <th>OperatingSystems</th>\n",
       "      <th>Browser</th>\n",
       "      <th>Region</th>\n",
       "      <th>TrafficType</th>\n",
       "      <th>VisitorType</th>\n",
       "      <th>Weekend</th>\n",
       "      <th>Revenue</th>\n",
       "    </tr>\n",
       "  </thead>\n",
       "  <tbody>\n",
       "    <tr>\n",
       "      <th>0</th>\n",
       "      <td>0</td>\n",
       "      <td>0.0</td>\n",
       "      <td>0</td>\n",
       "      <td>0.0</td>\n",
       "      <td>1</td>\n",
       "      <td>0.000000</td>\n",
       "      <td>0.20</td>\n",
       "      <td>0.20</td>\n",
       "      <td>0.0</td>\n",
       "      <td>0.0</td>\n",
       "      <td>Feb</td>\n",
       "      <td>1</td>\n",
       "      <td>1</td>\n",
       "      <td>1</td>\n",
       "      <td>1</td>\n",
       "      <td>Returning_Visitor</td>\n",
       "      <td>False</td>\n",
       "      <td>False</td>\n",
       "    </tr>\n",
       "    <tr>\n",
       "      <th>1</th>\n",
       "      <td>0</td>\n",
       "      <td>0.0</td>\n",
       "      <td>0</td>\n",
       "      <td>0.0</td>\n",
       "      <td>2</td>\n",
       "      <td>64.000000</td>\n",
       "      <td>0.00</td>\n",
       "      <td>0.10</td>\n",
       "      <td>0.0</td>\n",
       "      <td>0.0</td>\n",
       "      <td>Feb</td>\n",
       "      <td>2</td>\n",
       "      <td>2</td>\n",
       "      <td>1</td>\n",
       "      <td>2</td>\n",
       "      <td>Returning_Visitor</td>\n",
       "      <td>False</td>\n",
       "      <td>False</td>\n",
       "    </tr>\n",
       "    <tr>\n",
       "      <th>2</th>\n",
       "      <td>0</td>\n",
       "      <td>0.0</td>\n",
       "      <td>0</td>\n",
       "      <td>0.0</td>\n",
       "      <td>1</td>\n",
       "      <td>0.000000</td>\n",
       "      <td>0.20</td>\n",
       "      <td>0.20</td>\n",
       "      <td>0.0</td>\n",
       "      <td>0.0</td>\n",
       "      <td>Feb</td>\n",
       "      <td>4</td>\n",
       "      <td>1</td>\n",
       "      <td>9</td>\n",
       "      <td>3</td>\n",
       "      <td>Returning_Visitor</td>\n",
       "      <td>False</td>\n",
       "      <td>False</td>\n",
       "    </tr>\n",
       "    <tr>\n",
       "      <th>3</th>\n",
       "      <td>0</td>\n",
       "      <td>0.0</td>\n",
       "      <td>0</td>\n",
       "      <td>0.0</td>\n",
       "      <td>2</td>\n",
       "      <td>2.666667</td>\n",
       "      <td>0.05</td>\n",
       "      <td>0.14</td>\n",
       "      <td>0.0</td>\n",
       "      <td>0.0</td>\n",
       "      <td>Feb</td>\n",
       "      <td>3</td>\n",
       "      <td>2</td>\n",
       "      <td>2</td>\n",
       "      <td>4</td>\n",
       "      <td>Returning_Visitor</td>\n",
       "      <td>False</td>\n",
       "      <td>False</td>\n",
       "    </tr>\n",
       "    <tr>\n",
       "      <th>4</th>\n",
       "      <td>0</td>\n",
       "      <td>0.0</td>\n",
       "      <td>0</td>\n",
       "      <td>0.0</td>\n",
       "      <td>10</td>\n",
       "      <td>627.500000</td>\n",
       "      <td>0.02</td>\n",
       "      <td>0.05</td>\n",
       "      <td>0.0</td>\n",
       "      <td>0.0</td>\n",
       "      <td>Feb</td>\n",
       "      <td>3</td>\n",
       "      <td>3</td>\n",
       "      <td>1</td>\n",
       "      <td>4</td>\n",
       "      <td>Returning_Visitor</td>\n",
       "      <td>True</td>\n",
       "      <td>False</td>\n",
       "    </tr>\n",
       "  </tbody>\n",
       "</table>\n",
       "</div>"
      ],
      "text/plain": [
       "   Administrative  Administrative_Duration  Informational  \\\n",
       "0               0                      0.0              0   \n",
       "1               0                      0.0              0   \n",
       "2               0                      0.0              0   \n",
       "3               0                      0.0              0   \n",
       "4               0                      0.0              0   \n",
       "\n",
       "   Informational_Duration  ProductRelated  ProductRelated_Duration  \\\n",
       "0                     0.0               1                 0.000000   \n",
       "1                     0.0               2                64.000000   \n",
       "2                     0.0               1                 0.000000   \n",
       "3                     0.0               2                 2.666667   \n",
       "4                     0.0              10               627.500000   \n",
       "\n",
       "   BounceRates  ExitRates  PageValues  SpecialDay Month  OperatingSystems  \\\n",
       "0         0.20       0.20         0.0         0.0   Feb                 1   \n",
       "1         0.00       0.10         0.0         0.0   Feb                 2   \n",
       "2         0.20       0.20         0.0         0.0   Feb                 4   \n",
       "3         0.05       0.14         0.0         0.0   Feb                 3   \n",
       "4         0.02       0.05         0.0         0.0   Feb                 3   \n",
       "\n",
       "   Browser  Region  TrafficType        VisitorType  Weekend  Revenue  \n",
       "0        1       1            1  Returning_Visitor    False    False  \n",
       "1        2       1            2  Returning_Visitor    False    False  \n",
       "2        1       9            3  Returning_Visitor    False    False  \n",
       "3        2       2            4  Returning_Visitor    False    False  \n",
       "4        3       1            4  Returning_Visitor     True    False  "
      ]
     },
     "execution_count": 6,
     "metadata": {},
     "output_type": "execute_result"
    }
   ],
   "source": [
    "df.head()"
   ]
  },
  {
   "cell_type": "code",
   "execution_count": 7,
   "id": "e69048ab",
   "metadata": {},
   "outputs": [
    {
     "data": {
      "text/html": [
       "<div>\n",
       "<style scoped>\n",
       "    .dataframe tbody tr th:only-of-type {\n",
       "        vertical-align: middle;\n",
       "    }\n",
       "\n",
       "    .dataframe tbody tr th {\n",
       "        vertical-align: top;\n",
       "    }\n",
       "\n",
       "    .dataframe thead th {\n",
       "        text-align: right;\n",
       "    }\n",
       "</style>\n",
       "<table border=\"1\" class=\"dataframe\">\n",
       "  <thead>\n",
       "    <tr style=\"text-align: right;\">\n",
       "      <th></th>\n",
       "      <th>Administrative</th>\n",
       "      <th>Administrative_Duration</th>\n",
       "      <th>Informational</th>\n",
       "      <th>Informational_Duration</th>\n",
       "      <th>ProductRelated</th>\n",
       "      <th>ProductRelated_Duration</th>\n",
       "      <th>BounceRates</th>\n",
       "      <th>ExitRates</th>\n",
       "      <th>PageValues</th>\n",
       "      <th>SpecialDay</th>\n",
       "      <th>OperatingSystems</th>\n",
       "      <th>Browser</th>\n",
       "      <th>Region</th>\n",
       "      <th>TrafficType</th>\n",
       "    </tr>\n",
       "  </thead>\n",
       "  <tbody>\n",
       "    <tr>\n",
       "      <th>count</th>\n",
       "      <td>12330.000000</td>\n",
       "      <td>12330.000000</td>\n",
       "      <td>12330.000000</td>\n",
       "      <td>12330.000000</td>\n",
       "      <td>12330.000000</td>\n",
       "      <td>12330.000000</td>\n",
       "      <td>12330.000000</td>\n",
       "      <td>12330.000000</td>\n",
       "      <td>12330.000000</td>\n",
       "      <td>12330.000000</td>\n",
       "      <td>12330.000000</td>\n",
       "      <td>12330.000000</td>\n",
       "      <td>12330.000000</td>\n",
       "      <td>12330.000000</td>\n",
       "    </tr>\n",
       "    <tr>\n",
       "      <th>mean</th>\n",
       "      <td>2.315166</td>\n",
       "      <td>80.818611</td>\n",
       "      <td>0.503569</td>\n",
       "      <td>34.472398</td>\n",
       "      <td>31.731468</td>\n",
       "      <td>1194.746220</td>\n",
       "      <td>0.022191</td>\n",
       "      <td>0.043073</td>\n",
       "      <td>5.889258</td>\n",
       "      <td>0.061427</td>\n",
       "      <td>2.124006</td>\n",
       "      <td>2.357097</td>\n",
       "      <td>3.147364</td>\n",
       "      <td>4.069586</td>\n",
       "    </tr>\n",
       "    <tr>\n",
       "      <th>std</th>\n",
       "      <td>3.321784</td>\n",
       "      <td>176.779107</td>\n",
       "      <td>1.270156</td>\n",
       "      <td>140.749294</td>\n",
       "      <td>44.475503</td>\n",
       "      <td>1913.669288</td>\n",
       "      <td>0.048488</td>\n",
       "      <td>0.048597</td>\n",
       "      <td>18.568437</td>\n",
       "      <td>0.198917</td>\n",
       "      <td>0.911325</td>\n",
       "      <td>1.717277</td>\n",
       "      <td>2.401591</td>\n",
       "      <td>4.025169</td>\n",
       "    </tr>\n",
       "    <tr>\n",
       "      <th>min</th>\n",
       "      <td>0.000000</td>\n",
       "      <td>0.000000</td>\n",
       "      <td>0.000000</td>\n",
       "      <td>0.000000</td>\n",
       "      <td>0.000000</td>\n",
       "      <td>0.000000</td>\n",
       "      <td>0.000000</td>\n",
       "      <td>0.000000</td>\n",
       "      <td>0.000000</td>\n",
       "      <td>0.000000</td>\n",
       "      <td>1.000000</td>\n",
       "      <td>1.000000</td>\n",
       "      <td>1.000000</td>\n",
       "      <td>1.000000</td>\n",
       "    </tr>\n",
       "    <tr>\n",
       "      <th>25%</th>\n",
       "      <td>0.000000</td>\n",
       "      <td>0.000000</td>\n",
       "      <td>0.000000</td>\n",
       "      <td>0.000000</td>\n",
       "      <td>7.000000</td>\n",
       "      <td>184.137500</td>\n",
       "      <td>0.000000</td>\n",
       "      <td>0.014286</td>\n",
       "      <td>0.000000</td>\n",
       "      <td>0.000000</td>\n",
       "      <td>2.000000</td>\n",
       "      <td>2.000000</td>\n",
       "      <td>1.000000</td>\n",
       "      <td>2.000000</td>\n",
       "    </tr>\n",
       "    <tr>\n",
       "      <th>50%</th>\n",
       "      <td>1.000000</td>\n",
       "      <td>7.500000</td>\n",
       "      <td>0.000000</td>\n",
       "      <td>0.000000</td>\n",
       "      <td>18.000000</td>\n",
       "      <td>598.936905</td>\n",
       "      <td>0.003112</td>\n",
       "      <td>0.025156</td>\n",
       "      <td>0.000000</td>\n",
       "      <td>0.000000</td>\n",
       "      <td>2.000000</td>\n",
       "      <td>2.000000</td>\n",
       "      <td>3.000000</td>\n",
       "      <td>2.000000</td>\n",
       "    </tr>\n",
       "    <tr>\n",
       "      <th>75%</th>\n",
       "      <td>4.000000</td>\n",
       "      <td>93.256250</td>\n",
       "      <td>0.000000</td>\n",
       "      <td>0.000000</td>\n",
       "      <td>38.000000</td>\n",
       "      <td>1464.157214</td>\n",
       "      <td>0.016813</td>\n",
       "      <td>0.050000</td>\n",
       "      <td>0.000000</td>\n",
       "      <td>0.000000</td>\n",
       "      <td>3.000000</td>\n",
       "      <td>2.000000</td>\n",
       "      <td>4.000000</td>\n",
       "      <td>4.000000</td>\n",
       "    </tr>\n",
       "    <tr>\n",
       "      <th>max</th>\n",
       "      <td>27.000000</td>\n",
       "      <td>3398.750000</td>\n",
       "      <td>24.000000</td>\n",
       "      <td>2549.375000</td>\n",
       "      <td>705.000000</td>\n",
       "      <td>63973.522230</td>\n",
       "      <td>0.200000</td>\n",
       "      <td>0.200000</td>\n",
       "      <td>361.763742</td>\n",
       "      <td>1.000000</td>\n",
       "      <td>8.000000</td>\n",
       "      <td>13.000000</td>\n",
       "      <td>9.000000</td>\n",
       "      <td>20.000000</td>\n",
       "    </tr>\n",
       "  </tbody>\n",
       "</table>\n",
       "</div>"
      ],
      "text/plain": [
       "       Administrative  Administrative_Duration  Informational  \\\n",
       "count    12330.000000             12330.000000   12330.000000   \n",
       "mean         2.315166                80.818611       0.503569   \n",
       "std          3.321784               176.779107       1.270156   \n",
       "min          0.000000                 0.000000       0.000000   \n",
       "25%          0.000000                 0.000000       0.000000   \n",
       "50%          1.000000                 7.500000       0.000000   \n",
       "75%          4.000000                93.256250       0.000000   \n",
       "max         27.000000              3398.750000      24.000000   \n",
       "\n",
       "       Informational_Duration  ProductRelated  ProductRelated_Duration  \\\n",
       "count            12330.000000    12330.000000             12330.000000   \n",
       "mean                34.472398       31.731468              1194.746220   \n",
       "std                140.749294       44.475503              1913.669288   \n",
       "min                  0.000000        0.000000                 0.000000   \n",
       "25%                  0.000000        7.000000               184.137500   \n",
       "50%                  0.000000       18.000000               598.936905   \n",
       "75%                  0.000000       38.000000              1464.157214   \n",
       "max               2549.375000      705.000000             63973.522230   \n",
       "\n",
       "        BounceRates     ExitRates    PageValues    SpecialDay  \\\n",
       "count  12330.000000  12330.000000  12330.000000  12330.000000   \n",
       "mean       0.022191      0.043073      5.889258      0.061427   \n",
       "std        0.048488      0.048597     18.568437      0.198917   \n",
       "min        0.000000      0.000000      0.000000      0.000000   \n",
       "25%        0.000000      0.014286      0.000000      0.000000   \n",
       "50%        0.003112      0.025156      0.000000      0.000000   \n",
       "75%        0.016813      0.050000      0.000000      0.000000   \n",
       "max        0.200000      0.200000    361.763742      1.000000   \n",
       "\n",
       "       OperatingSystems       Browser        Region   TrafficType  \n",
       "count      12330.000000  12330.000000  12330.000000  12330.000000  \n",
       "mean           2.124006      2.357097      3.147364      4.069586  \n",
       "std            0.911325      1.717277      2.401591      4.025169  \n",
       "min            1.000000      1.000000      1.000000      1.000000  \n",
       "25%            2.000000      2.000000      1.000000      2.000000  \n",
       "50%            2.000000      2.000000      3.000000      2.000000  \n",
       "75%            3.000000      2.000000      4.000000      4.000000  \n",
       "max            8.000000     13.000000      9.000000     20.000000  "
      ]
     },
     "execution_count": 7,
     "metadata": {},
     "output_type": "execute_result"
    }
   ],
   "source": [
    "df.describe()"
   ]
  },
  {
   "cell_type": "code",
   "execution_count": 8,
   "id": "a977cf3f",
   "metadata": {},
   "outputs": [
    {
     "name": "stdout",
     "output_type": "stream",
     "text": [
      "<class 'pandas.core.frame.DataFrame'>\n",
      "RangeIndex: 12330 entries, 0 to 12329\n",
      "Data columns (total 18 columns):\n",
      " #   Column                   Non-Null Count  Dtype  \n",
      "---  ------                   --------------  -----  \n",
      " 0   Administrative           12330 non-null  int64  \n",
      " 1   Administrative_Duration  12330 non-null  float64\n",
      " 2   Informational            12330 non-null  int64  \n",
      " 3   Informational_Duration   12330 non-null  float64\n",
      " 4   ProductRelated           12330 non-null  int64  \n",
      " 5   ProductRelated_Duration  12330 non-null  float64\n",
      " 6   BounceRates              12330 non-null  float64\n",
      " 7   ExitRates                12330 non-null  float64\n",
      " 8   PageValues               12330 non-null  float64\n",
      " 9   SpecialDay               12330 non-null  float64\n",
      " 10  Month                    12330 non-null  object \n",
      " 11  OperatingSystems         12330 non-null  int64  \n",
      " 12  Browser                  12330 non-null  int64  \n",
      " 13  Region                   12330 non-null  int64  \n",
      " 14  TrafficType              12330 non-null  int64  \n",
      " 15  VisitorType              12330 non-null  object \n",
      " 16  Weekend                  12330 non-null  bool   \n",
      " 17  Revenue                  12330 non-null  bool   \n",
      "dtypes: bool(2), float64(7), int64(7), object(2)\n",
      "memory usage: 1.5+ MB\n"
     ]
    }
   ],
   "source": [
    "# Understand the data type\n",
    "\n",
    "df.info()"
   ]
  },
  {
   "cell_type": "code",
   "execution_count": 9,
   "id": "8b33ccda",
   "metadata": {},
   "outputs": [],
   "source": [
    "# Transform the data type of below mentioned features to object\n",
    "\n",
    "df[\"OperatingSystems\"] = df[\"OperatingSystems\"].astype(object)\n",
    "df[\"Browser\"] = df[\"Browser\"].astype(object)\n",
    "df[\"Region\"] = df[\"Region\"].astype(object)\n",
    "df[\"TrafficType\"] = df[\"TrafficType\"].astype(object)"
   ]
  },
  {
   "cell_type": "code",
   "execution_count": 10,
   "id": "76ac58ab",
   "metadata": {},
   "outputs": [
    {
     "data": {
      "text/plain": [
       "Administrative             0\n",
       "Administrative_Duration    0\n",
       "Informational              0\n",
       "Informational_Duration     0\n",
       "ProductRelated             0\n",
       "ProductRelated_Duration    0\n",
       "BounceRates                0\n",
       "ExitRates                  0\n",
       "PageValues                 0\n",
       "SpecialDay                 0\n",
       "Month                      0\n",
       "OperatingSystems           0\n",
       "Browser                    0\n",
       "Region                     0\n",
       "TrafficType                0\n",
       "VisitorType                0\n",
       "Weekend                    0\n",
       "Revenue                    0\n",
       "dtype: int64"
      ]
     },
     "execution_count": 10,
     "metadata": {},
     "output_type": "execute_result"
    }
   ],
   "source": [
    "#checking for null values\n",
    "df.isnull().sum()"
   ]
  },
  {
   "cell_type": "code",
   "execution_count": 11,
   "id": "e5dcec45",
   "metadata": {},
   "outputs": [
    {
     "data": {
      "text/plain": [
       "Text(0, 0.5, 'Count')"
      ]
     },
     "execution_count": 11,
     "metadata": {},
     "output_type": "execute_result"
    },
    {
     "data": {
      "image/png": "[encoded data removed]",
      "text/plain": [
       "<Figure size 640x480 with 1 Axes>"
      ]
     },
     "metadata": {},
     "output_type": "display_data"
    }
   ],
   "source": [
    "#Univariate data analysis\n",
    "#Revenue- Class label indicating whether the visit has been finalized with a transaction\n",
    "true_count = df['Revenue'].sum()\n",
    "false_count = len(df) - true_count\n",
    "plt.bar(['True', 'False'], [true_count, false_count])\n",
    "plt.title('Count distribution of visits that convereted into a transaction')\n",
    "plt.xlabel('Transaction convertion status')\n",
    "plt.ylabel('Count')"
   ]
  },
  {
   "cell_type": "code",
   "execution_count": 12,
   "id": "f7f674c3",
   "metadata": {},
   "outputs": [
    {
     "name": "stdout",
     "output_type": "stream",
     "text": [
      "VisitorType\n",
      "Returning_Visitor    10551\n",
      "New_Visitor           1694\n",
      "Other                   85\n",
      "Name: count, dtype: int64\n"
     ]
    }
   ],
   "source": [
    "# Count of each Visitor type as ‘‘New Visitor,’’ ‘‘Returning Visitor,’’ and ‘‘Other’’\n",
    "vis_count=df['VisitorType'].value_counts()\n",
    "print(vis_count)"
   ]
  },
  {
   "cell_type": "code",
   "execution_count": null,
   "id": "675620d2",
   "metadata": {},
   "outputs": [],
   "source": [
    "plt.pie(vis_count, labels=vis_count.index, startangle=180)\n",
    "plt.title('Vistor type', fontsize = 30)\n",
    "plt.axis('off')\n",
    "plt.legend()\n",
    "plt.show()"
   ]
  },
  {
   "cell_type": "code",
   "execution_count": null,
   "id": "787ca895",
   "metadata": {},
   "outputs": [],
   "source": [
    "#Browser of the visitor\n",
    "browser_count=df['Browser'].value_counts()\n",
    "print(browser_count)\n",
    "plt.pie(browser_count, labels=browser_count.index,autopct = '%.2f%%', startangle=90)\n",
    "plt.title('Browsers', fontsize = 30)\n",
    "plt.axis('off')\n",
    "plt.legend()\n",
    "plt.show()"
   ]
  },
  {
   "cell_type": "code",
   "execution_count": null,
   "id": "62c8a7a4",
   "metadata": {},
   "outputs": [],
   "source": [
    "#Region- Geographic region from which the session has been started by the visitor\n",
    "region_count=df['Region'].value_counts()\n",
    "print(region_count)\n",
    "bins = np.arange(df['Region'].min() - 0.5, df['Region'].max() + 1.5, 1)\n",
    "plt.hist(df['Region'],bins=bins,rwidth=0.8)\n",
    "plt.title('Distribution of customer by region')\n",
    "plt.xlabel('Region Codes')\n",
    "plt.ylabel('Count')\n",
    "plt.xticks(np.arange(1, 10, 1)) "
   ]
  },
  {
   "cell_type": "code",
   "execution_count": null,
   "id": "de8625f1",
   "metadata": {},
   "outputs": [],
   "source": [
    "#TrafficType-Traffic source by which the visitor has arrived at the Web site (e.g., banner, SMS, direct)\n",
    "traffic_count=df['TrafficType'].value_counts()\n",
    "print(traffic_count)\n",
    "bins = np.arange(df['TrafficType'].min() - 0.5, df['TrafficType'].max() + 1.5, 1)\n",
    "plt.hist(df['TrafficType'],bins=bins,rwidth=0.9)\n",
    "plt.title('Distribution of traffic source by which the visitor arrives at website')\n",
    "plt.xlabel('Traffic Type')\n",
    "plt.ylabel('Count')\n",
    "plt.xticks(np.arange(1, 21, 1))"
   ]
  },
  {
   "cell_type": "code",
   "execution_count": null,
   "id": "006e355a",
   "metadata": {},
   "outputs": [],
   "source": [
    "#Os-Operating system of the visitor\n",
    "Os_count=df['OperatingSystems'].value_counts()\n",
    "print(Os_count)"
   ]
  },
  {
   "cell_type": "code",
   "execution_count": null,
   "id": "8b8a8499",
   "metadata": {},
   "outputs": [],
   "source": [
    "#Month-Month value of the visit date\n",
    "Month_count= df['Month'].value_counts()\n",
    "print(Month_count)\n",
    "#Printing the histogram to view the month with max visits\n",
    "plt.hist(df['Month'])\n",
    "plt.xlabel('Month')\n",
    "plt.ylabel('Count')\n",
    "plt.title('Monthwise visits count')"
   ]
  },
  {
   "cell_type": "code",
   "execution_count": null,
   "id": "d415a023",
   "metadata": {},
   "outputs": [],
   "source": [
    "#Bivariate analysis\n",
    "# Group by 'Weekend' and count the occurrences of revenue\n",
    "revenue_count = df.groupby(['Weekend', 'Revenue']).size().unstack()\n",
    "print(revenue_count)\n",
    "# Plotting the graph\n",
    "revenue_count.plot(kind='bar', stacked=True)\n",
    "plt.xlabel('Weekend')\n",
    "plt.ylabel('Count of Revenue')\n",
    "plt.title('Count of Revenue vs. Weekend')"
   ]
  },
  {
   "cell_type": "code",
   "execution_count": null,
   "id": "0baa00f2",
   "metadata": {},
   "outputs": [],
   "source": [
    "revenue_count.loc[False,False] = revenue_count.loc[False,False]/5\n",
    "revenue_count.loc[False,True] = revenue_count.loc[False,True]/5\n",
    "revenue_count.loc[True,False] = revenue_count.loc[True,False]/2\n",
    "revenue_count.loc[True,True] = revenue_count.loc[True,True]/2"
   ]
  },
  {
   "cell_type": "code",
   "execution_count": null,
   "id": "10c7bca3",
   "metadata": {},
   "outputs": [],
   "source": [
    "print(revenue_count)\n",
    "# Plotting the graph\n",
    "revenue_count.plot(kind='bar', stacked=True)\n",
    "plt.xlabel('Weekend')\n",
    "plt.ylabel('Count of Revenue')\n",
    "plt.title('Count of Revenue vs. Weekend')"
   ]
  },
  {
   "cell_type": "code",
   "execution_count": null,
   "id": "a34c3a61",
   "metadata": {},
   "outputs": [],
   "source": [
    "249.5/1184.5"
   ]
  },
  {
   "cell_type": "code",
   "execution_count": null,
   "id": "92c560f6",
   "metadata": {},
   "outputs": [],
   "source": [
    "281.8/1610.6"
   ]
  },
  {
   "cell_type": "code",
   "execution_count": null,
   "id": "3f734f29",
   "metadata": {},
   "outputs": [],
   "source": [
    "# Group by 'TrafficType' and count the occurrences of revenue\n",
    "traffic_type_count = df.groupby(['TrafficType', 'Revenue']).size().unstack()\n",
    "# Plotting the graph\n",
    "traffic_type_count.plot(kind='bar', stacked=True)\n",
    "plt.xlabel('TrafficType')\n",
    "plt.ylabel('Count of Revenue')\n",
    "plt.title('Count of Revenue vs. TrafficType')"
   ]
  },
  {
   "cell_type": "code",
   "execution_count": null,
   "id": "9ff1a4ae",
   "metadata": {},
   "outputs": [],
   "source": [
    "#Normalised for easy visualisation\n",
    "df2 = pd.crosstab(df['TrafficType'], df['Revenue'])\n",
    "df2.div(df2.sum(1).astype(float), axis = 0).plot(kind = 'bar', stacked = True, figsize = (15, 5))\n",
    "plt.title('Traffic Type vs Revenue', fontsize = 30)\n",
    "plt.show()"
   ]
  },
  {
   "cell_type": "code",
   "execution_count": null,
   "id": "2cd37d02",
   "metadata": {
    "scrolled": true
   },
   "outputs": [],
   "source": [
    "df3 = pd.crosstab(df['VisitorType'], df['Revenue'])\n",
    "df3.div(df3.sum(1).astype(float), axis = 0).plot(kind = 'bar', stacked = True, figsize = (15, 5))\n",
    "plt.title('Visitor Type vs Revenue', fontsize = 30)\n",
    "plt.show()"
   ]
  },
  {
   "cell_type": "code",
   "execution_count": null,
   "id": "43346dd5",
   "metadata": {
    "scrolled": true
   },
   "outputs": [],
   "source": [
    "df4 = pd.crosstab(df['Region'], df['Revenue'])\n",
    "df4.div(df4.sum(1).astype(float), axis = 0).plot(kind = 'bar', stacked = True, figsize = (15, 5))\n",
    "plt.title('Region vs Revenue', fontsize = 30)\n",
    "plt.show()"
   ]
  },
  {
   "cell_type": "code",
   "execution_count": null,
   "id": "1212d7b0",
   "metadata": {
    "scrolled": true
   },
   "outputs": [],
   "source": [
    "# Correlation matrix\n",
    "var = data.columns #['SalePrice','OverallQual','GrLivArea','GarageCars','TotalBsmtSF']\n",
    "\n",
    "\n",
    "my_corr_matrix = data.corr(numeric_only=True)\n",
    "\n",
    "#my_corr_matrix"
   ]
  },
  {
   "cell_type": "code",
   "execution_count": null,
   "id": "04172429",
   "metadata": {
    "scrolled": true
   },
   "outputs": [],
   "source": [
    "# plot a heatmap for the correlation matrix\n",
    "\n",
    "sns.heatmap(my_corr_matrix )"
   ]
  },
  {
   "cell_type": "code",
   "execution_count": null,
   "id": "c5b43d9d",
   "metadata": {},
   "outputs": [],
   "source": [
    "s = my_corr_matrix.unstack()\n",
    "so = s.sort_values(kind=\"quicksort\")\n",
    "print(so)"
   ]
  },
  {
   "cell_type": "code",
   "execution_count": 13,
   "id": "60cd6d57",
   "metadata": {},
   "outputs": [
    {
     "data": {
      "text/html": [
       "<div>\n",
       "<style scoped>\n",
       "    .dataframe tbody tr th:only-of-type {\n",
       "        vertical-align: middle;\n",
       "    }\n",
       "\n",
       "    .dataframe tbody tr th {\n",
       "        vertical-align: top;\n",
       "    }\n",
       "\n",
       "    .dataframe thead th {\n",
       "        text-align: right;\n",
       "    }\n",
       "</style>\n",
       "<table border=\"1\" class=\"dataframe\">\n",
       "  <thead>\n",
       "    <tr style=\"text-align: right;\">\n",
       "      <th></th>\n",
       "      <th>Administrative</th>\n",
       "      <th>Administrative_Duration</th>\n",
       "      <th>Informational</th>\n",
       "      <th>Informational_Duration</th>\n",
       "      <th>ProductRelated</th>\n",
       "      <th>ProductRelated_Duration</th>\n",
       "      <th>BounceRates</th>\n",
       "      <th>ExitRates</th>\n",
       "      <th>PageValues</th>\n",
       "      <th>SpecialDay</th>\n",
       "      <th>Month</th>\n",
       "      <th>OperatingSystems</th>\n",
       "      <th>Browser</th>\n",
       "      <th>Region</th>\n",
       "      <th>TrafficType</th>\n",
       "      <th>VisitorType</th>\n",
       "      <th>Weekend</th>\n",
       "      <th>Revenue</th>\n",
       "    </tr>\n",
       "  </thead>\n",
       "  <tbody>\n",
       "    <tr>\n",
       "      <th>0</th>\n",
       "      <td>0.000000</td>\n",
       "      <td>0.0</td>\n",
       "      <td>0.0</td>\n",
       "      <td>0.0</td>\n",
       "      <td>0.001418</td>\n",
       "      <td>0.000000</td>\n",
       "      <td>1.000000</td>\n",
       "      <td>1.000000</td>\n",
       "      <td>0.0</td>\n",
       "      <td>0.0</td>\n",
       "      <td>Feb</td>\n",
       "      <td>1</td>\n",
       "      <td>1</td>\n",
       "      <td>1</td>\n",
       "      <td>1</td>\n",
       "      <td>Returning_Visitor</td>\n",
       "      <td>False</td>\n",
       "      <td>False</td>\n",
       "    </tr>\n",
       "    <tr>\n",
       "      <th>1</th>\n",
       "      <td>0.000000</td>\n",
       "      <td>0.0</td>\n",
       "      <td>0.0</td>\n",
       "      <td>0.0</td>\n",
       "      <td>0.002837</td>\n",
       "      <td>0.001000</td>\n",
       "      <td>0.000000</td>\n",
       "      <td>0.500000</td>\n",
       "      <td>0.0</td>\n",
       "      <td>0.0</td>\n",
       "      <td>Feb</td>\n",
       "      <td>2</td>\n",
       "      <td>2</td>\n",
       "      <td>1</td>\n",
       "      <td>2</td>\n",
       "      <td>Returning_Visitor</td>\n",
       "      <td>False</td>\n",
       "      <td>False</td>\n",
       "    </tr>\n",
       "    <tr>\n",
       "      <th>2</th>\n",
       "      <td>0.000000</td>\n",
       "      <td>0.0</td>\n",
       "      <td>0.0</td>\n",
       "      <td>0.0</td>\n",
       "      <td>0.001418</td>\n",
       "      <td>0.000000</td>\n",
       "      <td>1.000000</td>\n",
       "      <td>1.000000</td>\n",
       "      <td>0.0</td>\n",
       "      <td>0.0</td>\n",
       "      <td>Feb</td>\n",
       "      <td>4</td>\n",
       "      <td>1</td>\n",
       "      <td>9</td>\n",
       "      <td>3</td>\n",
       "      <td>Returning_Visitor</td>\n",
       "      <td>False</td>\n",
       "      <td>False</td>\n",
       "    </tr>\n",
       "    <tr>\n",
       "      <th>3</th>\n",
       "      <td>0.000000</td>\n",
       "      <td>0.0</td>\n",
       "      <td>0.0</td>\n",
       "      <td>0.0</td>\n",
       "      <td>0.002837</td>\n",
       "      <td>0.000042</td>\n",
       "      <td>0.250000</td>\n",
       "      <td>0.700000</td>\n",
       "      <td>0.0</td>\n",
       "      <td>0.0</td>\n",
       "      <td>Feb</td>\n",
       "      <td>3</td>\n",
       "      <td>2</td>\n",
       "      <td>2</td>\n",
       "      <td>4</td>\n",
       "      <td>Returning_Visitor</td>\n",
       "      <td>False</td>\n",
       "      <td>False</td>\n",
       "    </tr>\n",
       "    <tr>\n",
       "      <th>4</th>\n",
       "      <td>0.000000</td>\n",
       "      <td>0.0</td>\n",
       "      <td>0.0</td>\n",
       "      <td>0.0</td>\n",
       "      <td>0.014184</td>\n",
       "      <td>0.009809</td>\n",
       "      <td>0.100000</td>\n",
       "      <td>0.250000</td>\n",
       "      <td>0.0</td>\n",
       "      <td>0.0</td>\n",
       "      <td>Feb</td>\n",
       "      <td>3</td>\n",
       "      <td>3</td>\n",
       "      <td>1</td>\n",
       "      <td>4</td>\n",
       "      <td>Returning_Visitor</td>\n",
       "      <td>True</td>\n",
       "      <td>False</td>\n",
       "    </tr>\n",
       "    <tr>\n",
       "      <th>5</th>\n",
       "      <td>0.000000</td>\n",
       "      <td>0.0</td>\n",
       "      <td>0.0</td>\n",
       "      <td>0.0</td>\n",
       "      <td>0.026950</td>\n",
       "      <td>0.002411</td>\n",
       "      <td>0.078947</td>\n",
       "      <td>0.122807</td>\n",
       "      <td>0.0</td>\n",
       "      <td>0.0</td>\n",
       "      <td>Feb</td>\n",
       "      <td>2</td>\n",
       "      <td>2</td>\n",
       "      <td>1</td>\n",
       "      <td>3</td>\n",
       "      <td>Returning_Visitor</td>\n",
       "      <td>False</td>\n",
       "      <td>False</td>\n",
       "    </tr>\n",
       "    <tr>\n",
       "      <th>6</th>\n",
       "      <td>0.000000</td>\n",
       "      <td>0.0</td>\n",
       "      <td>0.0</td>\n",
       "      <td>0.0</td>\n",
       "      <td>0.001418</td>\n",
       "      <td>0.000000</td>\n",
       "      <td>1.000000</td>\n",
       "      <td>1.000000</td>\n",
       "      <td>0.0</td>\n",
       "      <td>0.4</td>\n",
       "      <td>Feb</td>\n",
       "      <td>2</td>\n",
       "      <td>4</td>\n",
       "      <td>3</td>\n",
       "      <td>3</td>\n",
       "      <td>Returning_Visitor</td>\n",
       "      <td>False</td>\n",
       "      <td>False</td>\n",
       "    </tr>\n",
       "    <tr>\n",
       "      <th>7</th>\n",
       "      <td>0.037037</td>\n",
       "      <td>0.0</td>\n",
       "      <td>0.0</td>\n",
       "      <td>0.0</td>\n",
       "      <td>0.000000</td>\n",
       "      <td>0.000000</td>\n",
       "      <td>1.000000</td>\n",
       "      <td>1.000000</td>\n",
       "      <td>0.0</td>\n",
       "      <td>0.0</td>\n",
       "      <td>Feb</td>\n",
       "      <td>1</td>\n",
       "      <td>2</td>\n",
       "      <td>1</td>\n",
       "      <td>5</td>\n",
       "      <td>Returning_Visitor</td>\n",
       "      <td>True</td>\n",
       "      <td>False</td>\n",
       "    </tr>\n",
       "    <tr>\n",
       "      <th>8</th>\n",
       "      <td>0.000000</td>\n",
       "      <td>0.0</td>\n",
       "      <td>0.0</td>\n",
       "      <td>0.0</td>\n",
       "      <td>0.002837</td>\n",
       "      <td>0.000578</td>\n",
       "      <td>0.000000</td>\n",
       "      <td>0.500000</td>\n",
       "      <td>0.0</td>\n",
       "      <td>0.8</td>\n",
       "      <td>Feb</td>\n",
       "      <td>2</td>\n",
       "      <td>2</td>\n",
       "      <td>2</td>\n",
       "      <td>3</td>\n",
       "      <td>Returning_Visitor</td>\n",
       "      <td>False</td>\n",
       "      <td>False</td>\n",
       "    </tr>\n",
       "    <tr>\n",
       "      <th>9</th>\n",
       "      <td>0.000000</td>\n",
       "      <td>0.0</td>\n",
       "      <td>0.0</td>\n",
       "      <td>0.0</td>\n",
       "      <td>0.004255</td>\n",
       "      <td>0.011536</td>\n",
       "      <td>0.000000</td>\n",
       "      <td>0.111111</td>\n",
       "      <td>0.0</td>\n",
       "      <td>0.4</td>\n",
       "      <td>Feb</td>\n",
       "      <td>2</td>\n",
       "      <td>4</td>\n",
       "      <td>1</td>\n",
       "      <td>2</td>\n",
       "      <td>Returning_Visitor</td>\n",
       "      <td>False</td>\n",
       "      <td>False</td>\n",
       "    </tr>\n",
       "  </tbody>\n",
       "</table>\n",
       "</div>"
      ],
      "text/plain": [
       "   Administrative  Administrative_Duration  Informational  \\\n",
       "0        0.000000                      0.0            0.0   \n",
       "1        0.000000                      0.0            0.0   \n",
       "2        0.000000                      0.0            0.0   \n",
       "3        0.000000                      0.0            0.0   \n",
       "4        0.000000                      0.0            0.0   \n",
       "5        0.000000                      0.0            0.0   \n",
       "6        0.000000                      0.0            0.0   \n",
       "7        0.037037                      0.0            0.0   \n",
       "8        0.000000                      0.0            0.0   \n",
       "9        0.000000                      0.0            0.0   \n",
       "\n",
       "   Informational_Duration  ProductRelated  ProductRelated_Duration  \\\n",
       "0                     0.0        0.001418                 0.000000   \n",
       "1                     0.0        0.002837                 0.001000   \n",
       "2                     0.0        0.001418                 0.000000   \n",
       "3                     0.0        0.002837                 0.000042   \n",
       "4                     0.0        0.014184                 0.009809   \n",
       "5                     0.0        0.026950                 0.002411   \n",
       "6                     0.0        0.001418                 0.000000   \n",
       "7                     0.0        0.000000                 0.000000   \n",
       "8                     0.0        0.002837                 0.000578   \n",
       "9                     0.0        0.004255                 0.011536   \n",
       "\n",
       "   BounceRates  ExitRates  PageValues  SpecialDay Month OperatingSystems  \\\n",
       "0     1.000000   1.000000         0.0         0.0   Feb                1   \n",
       "1     0.000000   0.500000         0.0         0.0   Feb                2   \n",
       "2     1.000000   1.000000         0.0         0.0   Feb                4   \n",
       "3     0.250000   0.700000         0.0         0.0   Feb                3   \n",
       "4     0.100000   0.250000         0.0         0.0   Feb                3   \n",
       "5     0.078947   0.122807         0.0         0.0   Feb                2   \n",
       "6     1.000000   1.000000         0.0         0.4   Feb                2   \n",
       "7     1.000000   1.000000         0.0         0.0   Feb                1   \n",
       "8     0.000000   0.500000         0.0         0.8   Feb                2   \n",
       "9     0.000000   0.111111         0.0         0.4   Feb                2   \n",
       "\n",
       "  Browser Region TrafficType        VisitorType  Weekend  Revenue  \n",
       "0       1      1           1  Returning_Visitor    False    False  \n",
       "1       2      1           2  Returning_Visitor    False    False  \n",
       "2       1      9           3  Returning_Visitor    False    False  \n",
       "3       2      2           4  Returning_Visitor    False    False  \n",
       "4       3      1           4  Returning_Visitor     True    False  \n",
       "5       2      1           3  Returning_Visitor    False    False  \n",
       "6       4      3           3  Returning_Visitor    False    False  \n",
       "7       2      1           5  Returning_Visitor     True    False  \n",
       "8       2      2           3  Returning_Visitor    False    False  \n",
       "9       4      1           2  Returning_Visitor    False    False  "
      ]
     },
     "execution_count": 13,
     "metadata": {},
     "output_type": "execute_result"
    }
   ],
   "source": [
    "# Use MinMax scaler to scale numeric columns\n",
    "\n",
    "df_scaled=df.copy()\n",
    "scaler = MinMaxScaler()\n",
    "scaled_col = ['Administrative','Administrative_Duration','Informational', 'Informational_Duration', 'ProductRelated', 'ProductRelated_Duration', 'BounceRates', 'ExitRates', 'PageValues', 'SpecialDay']\n",
    "df_scaled[scaled_col] = MinMaxScaler().fit_transform(df_scaled[scaled_col])\n",
    "df_scaled.head(10)"
   ]
  },
  {
   "cell_type": "code",
   "execution_count": 15,
   "id": "f201912a",
   "metadata": {},
   "outputs": [
    {
     "name": "stdout",
     "output_type": "stream",
     "text": [
      "Shape of x_train : (8631, 74)\n",
      "Shape of y_train : (8631,)\n",
      "Shape of x_test : (3699, 74)\n",
      "Shape of y_test : (3699,)\n"
     ]
    }
   ],
   "source": [
    "# Set target variable\n",
    "y=df_scaled['Revenue']\n",
    "\n",
    "# Transform the categorical variables into dummies or indicator variables\n",
    "\n",
    "data = pd.get_dummies(df_scaled)\n",
    "x_data=data.drop(['Revenue'], axis = 1)\n",
    "\n",
    "# Split the data\n",
    "\n",
    "x_train, x_test, y_train, y_test = train_test_split(x_data, y, test_size = 0.3, random_state = 0)\n",
    "\n",
    "# verify the shapes\n",
    "print(\"Shape of x_train :\", x_train.shape)\n",
    "print(\"Shape of y_train :\", y_train.shape)\n",
    "print(\"Shape of x_test :\", x_test.shape)\n",
    "print(\"Shape of y_test :\", y_test.shape)"
   ]
  },
  {
   "cell_type": "code",
   "execution_count": 18,
   "id": "d18268b4",
   "metadata": {},
   "outputs": [
    {
     "name": "stdout",
     "output_type": "stream",
     "text": [
      "Shape of resampled dataset: (14690, 74) (14690,)\n",
      "Shape of x_train_resampled: (14690, 74)\n"
     ]
    }
   ],
   "source": [
    "# Assuming X_train and y_train are your feature matrix and target variable respectively\n",
    "# X_train.shape = (n_samples, n_features)\n",
    "# y_train.shape = (n_samples,)\n",
    " \n",
    "# Instantiate the RandomOverSampler\n",
    "ros = RandomOverSampler(random_state=42)\n",
    " \n",
    "# Resample the training data\n",
    "x_train_resampled, y_train_resampled = ros.fit_resample(x_train, y_train)\n",
    " \n",
    "# Check the shape of the resampled train data\n",
    "print(\"Shape of resampled dataset:\", x_train_resampled.shape, y_train_resampled.shape)\n",
    "print(\"Shape of x_train_resampled:\", x_train_resampled.shape)"
   ]
  },
  {
   "cell_type": "code",
   "execution_count": 59,
   "id": "89e851c9",
   "metadata": {},
   "outputs": [
    {
     "name": "stdout",
     "output_type": "stream",
     "text": [
      "Accuracy of logistic regression classifier on train set:  0.8120490129339687\n",
      "Accuracy of logistic regression classifier on test set:  0.8142741281427412\n",
      "AUC for logistic regression: 0.8817118398406599\n"
     ]
    }
   ],
   "source": [
    "# Logistic Regression\n",
    "# Define function\n",
    "logreg = LogisticRegression(penalty='l2', random_state=42, max_iter=10000)\n",
    "\n",
    "# Train the classifier\n",
    "logreg.fit(x_train_resampled, y_train_resampled)\n",
    "\n",
    "# Predict target variable and the probability\n",
    "y_pred_logreg=logreg.predict(x_test)\n",
    "pred_prob = logreg.predict_proba(x_test)[:,1]\n",
    "\n",
    "# Print train, test accuarcay and area under the curve score\n",
    "print('Accuracy of logistic regression classifier on train set: ', logreg.score(x_train_resampled, y_train_resampled))\n",
    "print('Accuracy of logistic regression classifier on test set: ', logreg.score(x_test, y_test))\n",
    "print(\"AUC for logistic regression:\", roc_auc_score(y_test, pred_prob))\n"
   ]
  },
  {
   "cell_type": "code",
   "execution_count": 60,
   "id": "f5c23361",
   "metadata": {},
   "outputs": [
    {
     "name": "stdout",
     "output_type": "stream",
     "text": [
      "TP is: 478\n",
      "TN is: 2534\n",
      "FP is: 543\n",
      "FN is: 144\n"
     ]
    }
   ],
   "source": [
    "# Evaluate confusion matrix\n",
    "my_matrix_logreg = confusion_matrix(y_test, y_pred_logreg) \n",
    "print(\"TP is:\", my_matrix_logreg[1,1])\n",
    "print(\"TN is:\", my_matrix_logreg[0,0])\n",
    "print(\"FP is:\", my_matrix_logreg[0,1])\n",
    "print(\"FN is:\", my_matrix_logreg[1,0])\n"
   ]
  },
  {
   "cell_type": "code",
   "execution_count": 61,
   "id": "a2a8e177",
   "metadata": {},
   "outputs": [
    {
     "name": "stdout",
     "output_type": "stream",
     "text": [
      "Accuracy of naive bayes classifier on train set:  0.6543907420013615\n",
      "Accuracy of naive bayes classifier on test set:  0.6334144363341444\n",
      "AUC for NB regression: 0.7028236673504384\n"
     ]
    }
   ],
   "source": [
    "# Naive Bayes Classifier\n",
    "# Define function\n",
    "cat_nb = CategoricalNB(alpha = 1, min_categories=362) \n",
    "\n",
    "# Train the classifier \n",
    "cat_nb.fit(x_train_resampled, y_train_resampled) \n",
    "\n",
    "# Predict target variable and the probability\n",
    "y_pred_nb = cat_nb.predict(x_test)\n",
    "pred_prob = cat_nb.predict_proba(x_test)[:,1]\n",
    "\n",
    "# Print train, test accuarcay and area under the curve score\n",
    "print('Accuracy of naive bayes classifier on train set: ', cat_nb.score(x_train_resampled,y_train_resampled))\n",
    "print('Accuracy of naive bayes classifier on test set: ', cat_nb.score(x_test, y_test))\n",
    "print(\"AUC for NB regression:\", roc_auc_score(y_test, pred_prob))"
   ]
  },
  {
   "cell_type": "code",
   "execution_count": 62,
   "id": "d2e1f9f2",
   "metadata": {},
   "outputs": [
    {
     "name": "stdout",
     "output_type": "stream",
     "text": [
      "TP is: 419\n",
      "TN is: 1924\n",
      "FP is: 1153\n",
      "FN is: 203\n"
     ]
    }
   ],
   "source": [
    "# Evaluate confusion matrix\n",
    "my_matrix_nb = confusion_matrix(y_test, y_pred_nb) #Modle evaluation\n",
    "print(\"TP is:\", my_matrix_nb[1,1])\n",
    "print(\"TN is:\", my_matrix_nb[0,0])\n",
    "print(\"FP is:\", my_matrix_nb[0,1])\n",
    "print(\"FN is:\", my_matrix_nb[1,0])"
   ]
  },
  {
   "cell_type": "code",
   "execution_count": 70,
   "id": "d51e42d1",
   "metadata": {},
   "outputs": [
    {
     "name": "stdout",
     "output_type": "stream",
     "text": [
      "Accuracy of Decision Tree classifier on train set:  0.9222552492839305\n",
      "Accuracy of Decision Tree classifier on test set:  0.9112210498596057\n",
      "AUC for Decision Tree: 0.9112210498596057\n",
      "Accuracy: 0.9197221821895761\n",
      "{'max_depth': 4, 'max_leaf_nodes': 9, 'min_samples_split': 2}\n"
     ]
    }
   ],
   "source": [
    "# Decision Tree\n",
    "# Define function\n",
    "opt_tree = DecisionTreeClassifier(random_state = 0) # here, impurity measure is default, Gini. more efficient\n",
    "\n",
    "# Multiple hyperparameters to tune. separate elements by ,\n",
    "# Go through all possible combinations: 9*9*9 models, with 5 fold cv??\n",
    "# Define parameters\n",
    "dt_params = {'max_depth':  range(1,10)         ,\n",
    "             'min_samples_split':   range(2,11), \n",
    "             'max_leaf_nodes':    range(2,10)   }\n",
    "\n",
    "# Create function with gridsearch and cross validation\n",
    "grid_tree = GridSearchCV(opt_tree, dt_params, scoring = 'roc_auc')\n",
    "\n",
    "# Train classifier\n",
    "grid_tree.fit(x_train_resampled, y_train_resampled)\n",
    "\n",
    "# Predict target variable and the probability\n",
    "y_pred_dt = grid_tree.predict(x_test)\n",
    "pred_prob = grid_tree.predict_proba(x_test)[:,1]\n",
    "\n",
    "# Print train, test accuarcay and area under the curve score\n",
    "print('Accuracy of Decision Tree classifier on train set: ', grid_tree.score(x_train_resampled,y_train_resampled))\n",
    "print('Accuracy of Decision Tree classifier on test set: ', grid_tree.score(x_test, y_test))\n",
    "print(\"AUC for Decision Tree:\", roc_auc_score(y_test, pred_prob))\n",
    "print(\"Accuracy:\", grid_tree.best_score_) #mean validation accuracy\n",
    "print(grid_tree.best_params_)"
   ]
  },
  {
   "cell_type": "code",
   "execution_count": 71,
   "id": "1abf3e0a",
   "metadata": {},
   "outputs": [
    {
     "name": "stdout",
     "output_type": "stream",
     "text": [
      "0.8469856718031901\n"
     ]
    }
   ],
   "source": [
    "print(grid_tree.best_estimator_.score(x_test, y_test))"
   ]
  },
  {
   "cell_type": "code",
   "execution_count": 72,
   "id": "7eb1446f",
   "metadata": {},
   "outputs": [
    {
     "name": "stdout",
     "output_type": "stream",
     "text": [
      "TP is: 534\n",
      "TN is: 2599\n",
      "FP is: 478\n",
      "FN is: 88\n"
     ]
    }
   ],
   "source": [
    "# Evaluate confusion matrix\n",
    "my_matrix_dt = confusion_matrix(y_test, y_pred_dt)\n",
    "print(\"TP is:\", my_matrix_dt[1,1])\n",
    "print(\"TN is:\", my_matrix_dt[0,0])\n",
    "print(\"FP is:\", my_matrix_dt[0,1])\n",
    "print(\"FN is:\", my_matrix_dt[1,0])"
   ]
  },
  {
   "cell_type": "code",
   "execution_count": 68,
   "id": "5b233849",
   "metadata": {},
   "outputs": [
    {
     "name": "stdout",
     "output_type": "stream",
     "text": [
      "|--- feature_8 <= 0.00\n",
      "|   |--- feature_18 <= 0.50\n",
      "|   |   |--- feature_1 <= 0.00\n",
      "|   |   |   |--- class: False\n",
      "|   |   |--- feature_1 >  0.00\n",
      "|   |   |   |--- feature_17 <= 0.50\n",
      "|   |   |   |   |--- class: False\n",
      "|   |   |   |--- feature_17 >  0.50\n",
      "|   |   |   |   |--- class: False\n",
      "|   |--- feature_18 >  0.50\n",
      "|   |   |--- feature_4 <= 0.07\n",
      "|   |   |   |--- class: False\n",
      "|   |   |--- feature_4 >  0.07\n",
      "|   |   |   |--- class: True\n",
      "|--- feature_8 >  0.00\n",
      "|   |--- feature_6 <= 0.00\n",
      "|   |   |--- class: True\n",
      "|   |--- feature_6 >  0.00\n",
      "|   |   |--- feature_18 <= 0.50\n",
      "|   |   |   |--- feature_8 <= 0.03\n",
      "|   |   |   |   |--- class: True\n",
      "|   |   |   |--- feature_8 >  0.03\n",
      "|   |   |   |   |--- class: True\n",
      "|   |   |--- feature_18 >  0.50\n",
      "|   |   |   |--- class: True\n",
      "\n"
     ]
    }
   ],
   "source": [
    "print(tree.export_text(grid_tree.best_estimator_)) "
   ]
  },
  {
   "cell_type": "code",
   "execution_count": 69,
   "id": "e6e066f1",
   "metadata": {},
   "outputs": [
    {
     "data": {
      "image/png": "[encoded data removed]",
      "text/plain": [
       "<Figure size 2000x1000 with 1 Axes>"
      ]
     },
     "metadata": {},
     "output_type": "display_data"
    }
   ],
   "source": [
    "# Plot the decision tree\n",
    "from sklearn import tree\n",
    "fig = plt.figure(figsize=(20,10)) \n",
    "class_names = df['Revenue'].astype(str).unique().tolist()\n",
    "tree.plot_tree(grid_tree.best_estimator_, \n",
    "               feature_names = data.columns.tolist(), # specify variable names \n",
    "               class_names = class_names, # specify class (Y) names\n",
    "               filled = True, impurity = False) # whether to color the boxes, whether to report gini index\n",
    "             #   fontsize = 12) # set fontsize to read # impurity = False means we don't need the IG or Gini\n",
    "plt.show()"
   ]
  },
  {
   "cell_type": "code",
   "execution_count": 74,
   "id": "778d5863",
   "metadata": {},
   "outputs": [
    {
     "name": "stdout",
     "output_type": "stream",
     "text": [
      "Accuracy of random forest classifier on train set:  0.9707480348347352\n",
      "Accuracy of random forest classifier on test set:  0.9210227943658323\n",
      "AUC for random forest classifier: 0.9210227943658323\n"
     ]
    }
   ],
   "source": [
    "# Random Forest\n",
    "\n",
    "rf = RandomForestClassifier(bootstrap=True, random_state = 42) \n",
    "dt_params_3 = {'n_estimators':np.arange(100,800,100),'max_samples':np.arange(100,800,100)}\n",
    "grid_rf_tree = GridSearchCV(rf, dt_params_3,cv=5, scoring='roc_auc', n_jobs=2)\n",
    "grid_rf_tree.fit(x_train_resampled, y_train_resampled)\n",
    "# estimator dropped, estimator will be tree\n",
    "y_pred_rf = grid_rf_tree.predict(x_test)\n",
    "print('Accuracy of random forest classifier on train set: ', grid_rf_tree.score(x_train_resampled, y_train_resampled))\n",
    "print('Accuracy of random forest classifier on test set: ', grid_rf_tree.score(x_test, y_test))\n",
    "pred_prob = grid_rf_tree.predict_proba(x_test)[:,1]\n",
    "print(\"AUC for random forest classifier:\", roc_auc_score(y_test, pred_prob))\n"
   ]
  },
  {
   "cell_type": "code",
   "execution_count": 75,
   "id": "e849225c",
   "metadata": {},
   "outputs": [
    {
     "name": "stdout",
     "output_type": "stream",
     "text": [
      "TP is: 522\n",
      "TN is: 2661\n",
      "FP is: 416\n",
      "FN is: 100\n"
     ]
    }
   ],
   "source": [
    "my_matrix_rf = confusion_matrix(y_test, y_pred_rf)\n",
    "print(\"TP is:\", my_matrix_rf[1,1])\n",
    "print(\"TN is:\", my_matrix_rf[0,0])\n",
    "print(\"FP is:\", my_matrix_rf[0,1])\n",
    "print(\"FN is:\", my_matrix_rf[1,0])"
   ]
  },
  {
   "cell_type": "code",
   "execution_count": 76,
   "id": "2892d354",
   "metadata": {},
   "outputs": [
    {
     "name": "stdout",
     "output_type": "stream",
     "text": [
      "Accuracy of adaboost classifier on train set:  0.8663036078965283\n",
      "Accuracy of adaboost classifier on test set:  0.8556366585563666\n",
      "AUC for Adaboost: 0.8941958123072647\n",
      "Best learning rate: {'learning_rate': 1.0}\n"
     ]
    }
   ],
   "source": [
    "# Adaboost Ensemble Classifier \n",
    "\n",
    "dt1 = DecisionTreeClassifier(max_depth = 1, random_state = 42)\n",
    "dt_params2 = {'learning_rate':  np.arange(0,1.1,0.1)}\n",
    "adaboost = AdaBoostClassifier(dt1, n_estimators = 500, random_state = 42)\n",
    "grid_ada_tree = GridSearchCV(adaboost, dt_params2,cv=5,n_jobs=2)\n",
    "grid_ada_tree.fit(x_train_resampled, y_train_resampled)\n",
    "\n",
    "\n",
    "y_pred_ada=grid_ada_tree.predict(x_test)\n",
    "pred_prob = grid_ada_tree.predict_proba(x_test)[:,1]\n",
    "\n",
    "# Print train, test accuarcay and area under the curve score\n",
    "print('Accuracy of adaboost classifier on train set: ', grid_ada_tree.score(x_train_resampled, y_train_resampled))\n",
    "print('Accuracy of adaboost classifier on test set: ', grid_ada_tree.best_estimator_.score(x_test, y_test))\n",
    "print(\"AUC for Adaboost:\", roc_auc_score(y_test, pred_prob))\n",
    "print(\"Best learning rate:\", grid_ada_tree.best_params_)"
   ]
  },
  {
   "cell_type": "code",
   "execution_count": 77,
   "id": "7dec4f21",
   "metadata": {},
   "outputs": [
    {
     "name": "stdout",
     "output_type": "stream",
     "text": [
      "TP is: 479\n",
      "TN is: 2686\n",
      "FP is: 391\n",
      "FN is: 143\n"
     ]
    }
   ],
   "source": [
    "# Evaluate confusion matrix\n",
    "my_matrix_adaboost = confusion_matrix(y_test, y_pred_ada)\n",
    "print(\"TP is:\", my_matrix_adaboost[1,1])\n",
    "print(\"TN is:\", my_matrix_adaboost[0,0])\n",
    "print(\"FP is:\", my_matrix_adaboost[0,1])\n",
    "print(\"FN is:\", my_matrix_adaboost[1,0])"
   ]
  },
  {
   "cell_type": "code",
   "execution_count": 81,
   "id": "e6d0a594",
   "metadata": {},
   "outputs": [
    {
     "name": "stdout",
     "output_type": "stream",
     "text": [
      "Accuracy of linear SVC on train set:  0.9112612507825675\n",
      "Accuracy of linear SVC on test set:  0.8890727490655177\n",
      "Best parameter 'C': {'C': 10}\n"
     ]
    }
   ],
   "source": [
    "# Linear SVM with GridSearchCV\n",
    "\n",
    "lr_svc = LinearSVC(random_state = 0, max_iter=10000)\n",
    "params_svc = {'C': [0.01, 0.1, 1, 10]}\n",
    "grid_lrsvc = GridSearchCV(lr_svc, params_svc, scoring = 'roc_auc', n_jobs = 2 )\n",
    "grid_lrsvc.fit(x_train_resampled, y_train_resampled)\n",
    "y_pred_lrsvc=grid_lrsvc.predict(x_test)\n",
    "#pred_prob = grid_lrsvc.predict_proba(x_test)[:,1]\n",
    "print('Accuracy of linear SVC on train set: ', grid_lrsvc.score(x_train_resampled, y_train_resampled))\n",
    "print('Accuracy of linear SVC on test set: ', grid_lrsvc.score(x_test, y_test))\n",
    "#print(\"AUC for linear SVC:\", roc_auc_score(y_test, pred_prob))\n",
    "print(\"Best parameter 'C':\", grid_lrsvc.best_params_)"
   ]
  },
  {
   "cell_type": "code",
   "execution_count": 85,
   "id": "f0180963",
   "metadata": {},
   "outputs": [
    {
     "name": "stdout",
     "output_type": "stream",
     "text": [
      "0.838875371722087\n",
      "Best parameter 'C': {'C': 10}\n",
      "Mean validation Accuracy: 0.9091678672598811\n"
     ]
    }
   ],
   "source": [
    "print(grid_lrsvc.best_estimator_.score(x_test, y_test)) #with scoring method as accuracy of best model\n",
    "print(\"Best parameter 'C':\", grid_lrsvc.best_params_) #with scoring method as auc\n",
    "#can not find AUC score as SVC doesnot have prodict proba\n",
    "print(\"Mean validation Accuracy:\", grid_lrsvc.best_score_)"
   ]
  },
  {
   "cell_type": "code",
   "execution_count": 83,
   "id": "804cf1bc",
   "metadata": {},
   "outputs": [
    {
     "name": "stdout",
     "output_type": "stream",
     "text": [
      "TP is: 462\n",
      "TN is: 2641\n",
      "FP is: 436\n",
      "FN is: 160\n"
     ]
    }
   ],
   "source": [
    "my_matrix_lrsvc = confusion_matrix(y_test, y_pred_lrsvc)\n",
    "print(\"TP is:\", my_matrix_lrsvc[1,1])\n",
    "print(\"TN is:\", my_matrix_lrsvc[0,0])\n",
    "print(\"FP is:\", my_matrix_lrsvc[0,1])\n",
    "print(\"FN is:\", my_matrix_lrsvc[1,0])"
   ]
  },
  {
   "cell_type": "code",
   "execution_count": 92,
   "id": "34ba8be1",
   "metadata": {},
   "outputs": [
    {
     "ename": "KeyboardInterrupt",
     "evalue": "",
     "output_type": "error",
     "traceback": [
      "\u001b[1;31m---------------------------------------------------------------------------\u001b[0m",
      "\u001b[1;31mKeyboardInterrupt\u001b[0m                         Traceback (most recent call last)",
      "Cell \u001b[1;32mIn[92], line 7\u001b[0m\n\u001b[0;32m      4\u001b[0m param_svc_kernel \u001b[38;5;241m=\u001b[39m {\u001b[38;5;124m'\u001b[39m\u001b[38;5;124mC\u001b[39m\u001b[38;5;124m'\u001b[39m: [\u001b[38;5;241m0.001\u001b[39m, \u001b[38;5;241m0.01\u001b[39m, \u001b[38;5;241m0.1\u001b[39m, \u001b[38;5;241m1\u001b[39m, \u001b[38;5;241m10\u001b[39m, \u001b[38;5;241m100\u001b[39m, \u001b[38;5;241m10000\u001b[39m]  ,\n\u001b[0;32m      5\u001b[0m                     \u001b[38;5;124m'\u001b[39m\u001b[38;5;124mgamma\u001b[39m\u001b[38;5;124m'\u001b[39m: [\u001b[38;5;241m0.0001\u001b[39m, \u001b[38;5;241m0.001\u001b[39m,\u001b[38;5;241m0.001\u001b[39m,\u001b[38;5;241m0.1\u001b[39m,\u001b[38;5;241m1\u001b[39m,\u001b[38;5;241m10\u001b[39m]     }\n\u001b[0;32m      6\u001b[0m grid_svc \u001b[38;5;241m=\u001b[39m GridSearchCV(svc, param_svc_kernel, cv \u001b[38;5;241m=\u001b[39m \u001b[38;5;241m5\u001b[39m, scoring \u001b[38;5;241m=\u001b[39m \u001b[38;5;124m'\u001b[39m\u001b[38;5;124mroc_auc\u001b[39m\u001b[38;5;124m'\u001b[39m, n_jobs\u001b[38;5;241m=\u001b[39m\u001b[38;5;241m2\u001b[39m)\n\u001b[1;32m----> 7\u001b[0m \u001b[43mgrid_svc\u001b[49m\u001b[38;5;241;43m.\u001b[39;49m\u001b[43mfit\u001b[49m\u001b[43m(\u001b[49m\u001b[43mx_train_resampled\u001b[49m\u001b[43m,\u001b[49m\u001b[43m \u001b[49m\u001b[43my_train_resampled\u001b[49m\u001b[43m)\u001b[49m\n\u001b[0;32m      8\u001b[0m y_pred_kernel \u001b[38;5;241m=\u001b[39m grid_svc\u001b[38;5;241m.\u001b[39mpredict(x_test)\n\u001b[0;32m      9\u001b[0m \u001b[38;5;28mprint\u001b[39m(\u001b[38;5;124m'\u001b[39m\u001b[38;5;124mAccuracy for kernel SVM on train set:\u001b[39m\u001b[38;5;124m'\u001b[39m,grid_svc\u001b[38;5;241m.\u001b[39mscore(x_train_resampled, y_train_resampled))\n",
      "File \u001b[1;32mc:\\Users\\rucha\\AppData\\Local\\Programs\\Python\\Python311\\Lib\\site-packages\\sklearn\\base.py:1474\u001b[0m, in \u001b[0;36m_fit_context.<locals>.decorator.<locals>.wrapper\u001b[1;34m(estimator, *args, **kwargs)\u001b[0m\n\u001b[0;32m   1467\u001b[0m     estimator\u001b[38;5;241m.\u001b[39m_validate_params()\n\u001b[0;32m   1469\u001b[0m \u001b[38;5;28;01mwith\u001b[39;00m config_context(\n\u001b[0;32m   1470\u001b[0m     skip_parameter_validation\u001b[38;5;241m=\u001b[39m(\n\u001b[0;32m   1471\u001b[0m         prefer_skip_nested_validation \u001b[38;5;129;01mor\u001b[39;00m global_skip_validation\n\u001b[0;32m   1472\u001b[0m     )\n\u001b[0;32m   1473\u001b[0m ):\n\u001b[1;32m-> 1474\u001b[0m     \u001b[38;5;28;01mreturn\u001b[39;00m \u001b[43mfit_method\u001b[49m\u001b[43m(\u001b[49m\u001b[43mestimator\u001b[49m\u001b[43m,\u001b[49m\u001b[43m \u001b[49m\u001b[38;5;241;43m*\u001b[39;49m\u001b[43margs\u001b[49m\u001b[43m,\u001b[49m\u001b[43m \u001b[49m\u001b[38;5;241;43m*\u001b[39;49m\u001b[38;5;241;43m*\u001b[39;49m\u001b[43mkwargs\u001b[49m\u001b[43m)\u001b[49m\n",
      "File \u001b[1;32mc:\\Users\\rucha\\AppData\\Local\\Programs\\Python\\Python311\\Lib\\site-packages\\sklearn\\model_selection\\_search.py:970\u001b[0m, in \u001b[0;36mBaseSearchCV.fit\u001b[1;34m(self, X, y, **params)\u001b[0m\n\u001b[0;32m    964\u001b[0m     results \u001b[38;5;241m=\u001b[39m \u001b[38;5;28mself\u001b[39m\u001b[38;5;241m.\u001b[39m_format_results(\n\u001b[0;32m    965\u001b[0m         all_candidate_params, n_splits, all_out, all_more_results\n\u001b[0;32m    966\u001b[0m     )\n\u001b[0;32m    968\u001b[0m     \u001b[38;5;28;01mreturn\u001b[39;00m results\n\u001b[1;32m--> 970\u001b[0m \u001b[38;5;28;43mself\u001b[39;49m\u001b[38;5;241;43m.\u001b[39;49m\u001b[43m_run_search\u001b[49m\u001b[43m(\u001b[49m\u001b[43mevaluate_candidates\u001b[49m\u001b[43m)\u001b[49m\n\u001b[0;32m    972\u001b[0m \u001b[38;5;66;03m# multimetric is determined here because in the case of a callable\u001b[39;00m\n\u001b[0;32m    973\u001b[0m \u001b[38;5;66;03m# self.scoring the return type is only known after calling\u001b[39;00m\n\u001b[0;32m    974\u001b[0m first_test_score \u001b[38;5;241m=\u001b[39m all_out[\u001b[38;5;241m0\u001b[39m][\u001b[38;5;124m\"\u001b[39m\u001b[38;5;124mtest_scores\u001b[39m\u001b[38;5;124m\"\u001b[39m]\n",
      "File \u001b[1;32mc:\\Users\\rucha\\AppData\\Local\\Programs\\Python\\Python311\\Lib\\site-packages\\sklearn\\model_selection\\_search.py:1527\u001b[0m, in \u001b[0;36mGridSearchCV._run_search\u001b[1;34m(self, evaluate_candidates)\u001b[0m\n\u001b[0;32m   1525\u001b[0m \u001b[38;5;28;01mdef\u001b[39;00m \u001b[38;5;21m_run_search\u001b[39m(\u001b[38;5;28mself\u001b[39m, evaluate_candidates):\n\u001b[0;32m   1526\u001b[0m \u001b[38;5;250m    \u001b[39m\u001b[38;5;124;03m\"\"\"Search all candidates in param_grid\"\"\"\u001b[39;00m\n\u001b[1;32m-> 1527\u001b[0m     \u001b[43mevaluate_candidates\u001b[49m\u001b[43m(\u001b[49m\u001b[43mParameterGrid\u001b[49m\u001b[43m(\u001b[49m\u001b[38;5;28;43mself\u001b[39;49m\u001b[38;5;241;43m.\u001b[39;49m\u001b[43mparam_grid\u001b[49m\u001b[43m)\u001b[49m\u001b[43m)\u001b[49m\n",
      "File \u001b[1;32mc:\\Users\\rucha\\AppData\\Local\\Programs\\Python\\Python311\\Lib\\site-packages\\sklearn\\model_selection\\_search.py:916\u001b[0m, in \u001b[0;36mBaseSearchCV.fit.<locals>.evaluate_candidates\u001b[1;34m(candidate_params, cv, more_results)\u001b[0m\n\u001b[0;32m    908\u001b[0m \u001b[38;5;28;01mif\u001b[39;00m \u001b[38;5;28mself\u001b[39m\u001b[38;5;241m.\u001b[39mverbose \u001b[38;5;241m>\u001b[39m \u001b[38;5;241m0\u001b[39m:\n\u001b[0;32m    909\u001b[0m     \u001b[38;5;28mprint\u001b[39m(\n\u001b[0;32m    910\u001b[0m         \u001b[38;5;124m\"\u001b[39m\u001b[38;5;124mFitting \u001b[39m\u001b[38;5;132;01m{0}\u001b[39;00m\u001b[38;5;124m folds for each of \u001b[39m\u001b[38;5;132;01m{1}\u001b[39;00m\u001b[38;5;124m candidates,\u001b[39m\u001b[38;5;124m\"\u001b[39m\n\u001b[0;32m    911\u001b[0m         \u001b[38;5;124m\"\u001b[39m\u001b[38;5;124m totalling \u001b[39m\u001b[38;5;132;01m{2}\u001b[39;00m\u001b[38;5;124m fits\u001b[39m\u001b[38;5;124m\"\u001b[39m\u001b[38;5;241m.\u001b[39mformat(\n\u001b[0;32m    912\u001b[0m             n_splits, n_candidates, n_candidates \u001b[38;5;241m*\u001b[39m n_splits\n\u001b[0;32m    913\u001b[0m         )\n\u001b[0;32m    914\u001b[0m     )\n\u001b[1;32m--> 916\u001b[0m out \u001b[38;5;241m=\u001b[39m \u001b[43mparallel\u001b[49m\u001b[43m(\u001b[49m\n\u001b[0;32m    917\u001b[0m \u001b[43m    \u001b[49m\u001b[43mdelayed\u001b[49m\u001b[43m(\u001b[49m\u001b[43m_fit_and_score\u001b[49m\u001b[43m)\u001b[49m\u001b[43m(\u001b[49m\n\u001b[0;32m    918\u001b[0m \u001b[43m        \u001b[49m\u001b[43mclone\u001b[49m\u001b[43m(\u001b[49m\u001b[43mbase_estimator\u001b[49m\u001b[43m)\u001b[49m\u001b[43m,\u001b[49m\n\u001b[0;32m    919\u001b[0m \u001b[43m        \u001b[49m\u001b[43mX\u001b[49m\u001b[43m,\u001b[49m\n\u001b[0;32m    920\u001b[0m \u001b[43m        \u001b[49m\u001b[43my\u001b[49m\u001b[43m,\u001b[49m\n\u001b[0;32m    921\u001b[0m \u001b[43m        \u001b[49m\u001b[43mtrain\u001b[49m\u001b[38;5;241;43m=\u001b[39;49m\u001b[43mtrain\u001b[49m\u001b[43m,\u001b[49m\n\u001b[0;32m    922\u001b[0m \u001b[43m        \u001b[49m\u001b[43mtest\u001b[49m\u001b[38;5;241;43m=\u001b[39;49m\u001b[43mtest\u001b[49m\u001b[43m,\u001b[49m\n\u001b[0;32m    923\u001b[0m \u001b[43m        \u001b[49m\u001b[43mparameters\u001b[49m\u001b[38;5;241;43m=\u001b[39;49m\u001b[43mparameters\u001b[49m\u001b[43m,\u001b[49m\n\u001b[0;32m    924\u001b[0m \u001b[43m        \u001b[49m\u001b[43msplit_progress\u001b[49m\u001b[38;5;241;43m=\u001b[39;49m\u001b[43m(\u001b[49m\u001b[43msplit_idx\u001b[49m\u001b[43m,\u001b[49m\u001b[43m \u001b[49m\u001b[43mn_splits\u001b[49m\u001b[43m)\u001b[49m\u001b[43m,\u001b[49m\n\u001b[0;32m    925\u001b[0m \u001b[43m        \u001b[49m\u001b[43mcandidate_progress\u001b[49m\u001b[38;5;241;43m=\u001b[39;49m\u001b[43m(\u001b[49m\u001b[43mcand_idx\u001b[49m\u001b[43m,\u001b[49m\u001b[43m \u001b[49m\u001b[43mn_candidates\u001b[49m\u001b[43m)\u001b[49m\u001b[43m,\u001b[49m\n\u001b[0;32m    926\u001b[0m \u001b[43m        \u001b[49m\u001b[38;5;241;43m*\u001b[39;49m\u001b[38;5;241;43m*\u001b[39;49m\u001b[43mfit_and_score_kwargs\u001b[49m\u001b[43m,\u001b[49m\n\u001b[0;32m    927\u001b[0m \u001b[43m    \u001b[49m\u001b[43m)\u001b[49m\n\u001b[0;32m    928\u001b[0m \u001b[43m    \u001b[49m\u001b[38;5;28;43;01mfor\u001b[39;49;00m\u001b[43m \u001b[49m\u001b[43m(\u001b[49m\u001b[43mcand_idx\u001b[49m\u001b[43m,\u001b[49m\u001b[43m \u001b[49m\u001b[43mparameters\u001b[49m\u001b[43m)\u001b[49m\u001b[43m,\u001b[49m\u001b[43m \u001b[49m\u001b[43m(\u001b[49m\u001b[43msplit_idx\u001b[49m\u001b[43m,\u001b[49m\u001b[43m \u001b[49m\u001b[43m(\u001b[49m\u001b[43mtrain\u001b[49m\u001b[43m,\u001b[49m\u001b[43m \u001b[49m\u001b[43mtest\u001b[49m\u001b[43m)\u001b[49m\u001b[43m)\u001b[49m\u001b[43m \u001b[49m\u001b[38;5;129;43;01min\u001b[39;49;00m\u001b[43m \u001b[49m\u001b[43mproduct\u001b[49m\u001b[43m(\u001b[49m\n\u001b[0;32m    929\u001b[0m \u001b[43m        \u001b[49m\u001b[38;5;28;43menumerate\u001b[39;49m\u001b[43m(\u001b[49m\u001b[43mcandidate_params\u001b[49m\u001b[43m)\u001b[49m\u001b[43m,\u001b[49m\n\u001b[0;32m    930\u001b[0m \u001b[43m        \u001b[49m\u001b[38;5;28;43menumerate\u001b[39;49m\u001b[43m(\u001b[49m\u001b[43mcv\u001b[49m\u001b[38;5;241;43m.\u001b[39;49m\u001b[43msplit\u001b[49m\u001b[43m(\u001b[49m\u001b[43mX\u001b[49m\u001b[43m,\u001b[49m\u001b[43m \u001b[49m\u001b[43my\u001b[49m\u001b[43m,\u001b[49m\u001b[43m \u001b[49m\u001b[38;5;241;43m*\u001b[39;49m\u001b[38;5;241;43m*\u001b[39;49m\u001b[43mrouted_params\u001b[49m\u001b[38;5;241;43m.\u001b[39;49m\u001b[43msplitter\u001b[49m\u001b[38;5;241;43m.\u001b[39;49m\u001b[43msplit\u001b[49m\u001b[43m)\u001b[49m\u001b[43m)\u001b[49m\u001b[43m,\u001b[49m\n\u001b[0;32m    931\u001b[0m \u001b[43m    \u001b[49m\u001b[43m)\u001b[49m\n\u001b[0;32m    932\u001b[0m \u001b[43m\u001b[49m\u001b[43m)\u001b[49m\n\u001b[0;32m    934\u001b[0m \u001b[38;5;28;01mif\u001b[39;00m \u001b[38;5;28mlen\u001b[39m(out) \u001b[38;5;241m<\u001b[39m \u001b[38;5;241m1\u001b[39m:\n\u001b[0;32m    935\u001b[0m     \u001b[38;5;28;01mraise\u001b[39;00m \u001b[38;5;167;01mValueError\u001b[39;00m(\n\u001b[0;32m    936\u001b[0m         \u001b[38;5;124m\"\u001b[39m\u001b[38;5;124mNo fits were performed. \u001b[39m\u001b[38;5;124m\"\u001b[39m\n\u001b[0;32m    937\u001b[0m         \u001b[38;5;124m\"\u001b[39m\u001b[38;5;124mWas the CV iterator empty? \u001b[39m\u001b[38;5;124m\"\u001b[39m\n\u001b[0;32m    938\u001b[0m         \u001b[38;5;124m\"\u001b[39m\u001b[38;5;124mWere there no candidates?\u001b[39m\u001b[38;5;124m\"\u001b[39m\n\u001b[0;32m    939\u001b[0m     )\n",
      "File \u001b[1;32mc:\\Users\\rucha\\AppData\\Local\\Programs\\Python\\Python311\\Lib\\site-packages\\sklearn\\utils\\parallel.py:67\u001b[0m, in \u001b[0;36mParallel.__call__\u001b[1;34m(self, iterable)\u001b[0m\n\u001b[0;32m     62\u001b[0m config \u001b[38;5;241m=\u001b[39m get_config()\n\u001b[0;32m     63\u001b[0m iterable_with_config \u001b[38;5;241m=\u001b[39m (\n\u001b[0;32m     64\u001b[0m     (_with_config(delayed_func, config), args, kwargs)\n\u001b[0;32m     65\u001b[0m     \u001b[38;5;28;01mfor\u001b[39;00m delayed_func, args, kwargs \u001b[38;5;129;01min\u001b[39;00m iterable\n\u001b[0;32m     66\u001b[0m )\n\u001b[1;32m---> 67\u001b[0m \u001b[38;5;28;01mreturn\u001b[39;00m \u001b[38;5;28;43msuper\u001b[39;49m\u001b[43m(\u001b[49m\u001b[43m)\u001b[49m\u001b[38;5;241;43m.\u001b[39;49m\u001b[38;5;21;43m__call__\u001b[39;49m\u001b[43m(\u001b[49m\u001b[43miterable_with_config\u001b[49m\u001b[43m)\u001b[49m\n",
      "File \u001b[1;32mc:\\Users\\rucha\\AppData\\Local\\Programs\\Python\\Python311\\Lib\\site-packages\\joblib\\parallel.py:2007\u001b[0m, in \u001b[0;36mParallel.__call__\u001b[1;34m(self, iterable)\u001b[0m\n\u001b[0;32m   2001\u001b[0m \u001b[38;5;66;03m# The first item from the output is blank, but it makes the interpreter\u001b[39;00m\n\u001b[0;32m   2002\u001b[0m \u001b[38;5;66;03m# progress until it enters the Try/Except block of the generator and\u001b[39;00m\n\u001b[0;32m   2003\u001b[0m \u001b[38;5;66;03m# reach the first `yield` statement. This starts the aynchronous\u001b[39;00m\n\u001b[0;32m   2004\u001b[0m \u001b[38;5;66;03m# dispatch of the tasks to the workers.\u001b[39;00m\n\u001b[0;32m   2005\u001b[0m \u001b[38;5;28mnext\u001b[39m(output)\n\u001b[1;32m-> 2007\u001b[0m \u001b[38;5;28;01mreturn\u001b[39;00m output \u001b[38;5;28;01mif\u001b[39;00m \u001b[38;5;28mself\u001b[39m\u001b[38;5;241m.\u001b[39mreturn_generator \u001b[38;5;28;01melse\u001b[39;00m \u001b[38;5;28mlist\u001b[39m(output)\n",
      "File \u001b[1;32mc:\\Users\\rucha\\AppData\\Local\\Programs\\Python\\Python311\\Lib\\site-packages\\joblib\\parallel.py:1650\u001b[0m, in \u001b[0;36mParallel._get_outputs\u001b[1;34m(self, iterator, pre_dispatch)\u001b[0m\n\u001b[0;32m   1647\u001b[0m     \u001b[38;5;28;01myield\u001b[39;00m\n\u001b[0;32m   1649\u001b[0m     \u001b[38;5;28;01mwith\u001b[39;00m \u001b[38;5;28mself\u001b[39m\u001b[38;5;241m.\u001b[39m_backend\u001b[38;5;241m.\u001b[39mretrieval_context():\n\u001b[1;32m-> 1650\u001b[0m         \u001b[38;5;28;01myield from\u001b[39;00m \u001b[38;5;28mself\u001b[39m\u001b[38;5;241m.\u001b[39m_retrieve()\n\u001b[0;32m   1652\u001b[0m \u001b[38;5;28;01mexcept\u001b[39;00m \u001b[38;5;167;01mGeneratorExit\u001b[39;00m:\n\u001b[0;32m   1653\u001b[0m     \u001b[38;5;66;03m# The generator has been garbage collected before being fully\u001b[39;00m\n\u001b[0;32m   1654\u001b[0m     \u001b[38;5;66;03m# consumed. This aborts the remaining tasks if possible and warn\u001b[39;00m\n\u001b[0;32m   1655\u001b[0m     \u001b[38;5;66;03m# the user if necessary.\u001b[39;00m\n\u001b[0;32m   1656\u001b[0m     \u001b[38;5;28mself\u001b[39m\u001b[38;5;241m.\u001b[39m_exception \u001b[38;5;241m=\u001b[39m \u001b[38;5;28;01mTrue\u001b[39;00m\n",
      "File \u001b[1;32mc:\\Users\\rucha\\AppData\\Local\\Programs\\Python\\Python311\\Lib\\site-packages\\joblib\\parallel.py:1762\u001b[0m, in \u001b[0;36mParallel._retrieve\u001b[1;34m(self)\u001b[0m\n\u001b[0;32m   1757\u001b[0m \u001b[38;5;66;03m# If the next job is not ready for retrieval yet, we just wait for\u001b[39;00m\n\u001b[0;32m   1758\u001b[0m \u001b[38;5;66;03m# async callbacks to progress.\u001b[39;00m\n\u001b[0;32m   1759\u001b[0m \u001b[38;5;28;01mif\u001b[39;00m ((\u001b[38;5;28mlen\u001b[39m(\u001b[38;5;28mself\u001b[39m\u001b[38;5;241m.\u001b[39m_jobs) \u001b[38;5;241m==\u001b[39m \u001b[38;5;241m0\u001b[39m) \u001b[38;5;129;01mor\u001b[39;00m\n\u001b[0;32m   1760\u001b[0m     (\u001b[38;5;28mself\u001b[39m\u001b[38;5;241m.\u001b[39m_jobs[\u001b[38;5;241m0\u001b[39m]\u001b[38;5;241m.\u001b[39mget_status(\n\u001b[0;32m   1761\u001b[0m         timeout\u001b[38;5;241m=\u001b[39m\u001b[38;5;28mself\u001b[39m\u001b[38;5;241m.\u001b[39mtimeout) \u001b[38;5;241m==\u001b[39m TASK_PENDING)):\n\u001b[1;32m-> 1762\u001b[0m     time\u001b[38;5;241m.\u001b[39msleep(\u001b[38;5;241m0.01\u001b[39m)\n\u001b[0;32m   1763\u001b[0m     \u001b[38;5;28;01mcontinue\u001b[39;00m\n\u001b[0;32m   1765\u001b[0m \u001b[38;5;66;03m# We need to be careful: the job list can be filling up as\u001b[39;00m\n\u001b[0;32m   1766\u001b[0m \u001b[38;5;66;03m# we empty it and Python list are not thread-safe by\u001b[39;00m\n\u001b[0;32m   1767\u001b[0m \u001b[38;5;66;03m# default hence the use of the lock\u001b[39;00m\n",
      "\u001b[1;31mKeyboardInterrupt\u001b[0m: "
     ]
    }
   ],
   "source": [
    "# Kernal SVM with GridSearchCV\n",
    "\n",
    "svc = SVC(random_state = 0, kernel = 'rbf')\n",
    "param_svc_kernel = {'C': [0.001, 0.01, 0.1, 1, 10, 100, 10000]  ,\n",
    "                    'gamma': [0.0001, 0.001,0.001,0.1,1,10]     }\n",
    "grid_svc = GridSearchCV(svc, param_svc_kernel, cv = 5, scoring = 'roc_auc', n_jobs=2)\n",
    "grid_svc.fit(x_train_resampled, y_train_resampled)\n",
    "y_pred_kernel = grid_svc.predict(x_test)\n",
    "print('Accuracy for kernel SVM on train set:',grid_svc.score(x_train_resampled, y_train_resampled))\n",
    "print('Accuracy for kernel SVM on test set:',grid_svc.score(x_test, y_test))\n",
    "print(\"Best parameters:\", grid_svc.best_params_)"
   ]
  },
  {
   "cell_type": "code",
   "execution_count": 49,
   "id": "3cb98de9",
   "metadata": {},
   "outputs": [
    {
     "name": "stdout",
     "output_type": "stream",
     "text": [
      "0.7996755879967559\n",
      "Best parameter: {'C': 10}\n",
      "Accuracy: 0.984532157902761\n"
     ]
    }
   ],
   "source": [
    "print(grid_svc.best_estimator_.score(x_test, y_test)) #based on accuracy\n",
    "print(\"Best parameter:\", grid_lrsvc.best_params_) #with scoring method as accuracy of best model\n",
    "print(\"Accuracy:\", grid_svc.best_score_) #mean validation accuracy, should go with which ever has heighest of it"
   ]
  },
  {
   "cell_type": "code",
   "execution_count": 50,
   "id": "34454abd",
   "metadata": {},
   "outputs": [
    {
     "name": "stdout",
     "output_type": "stream",
     "text": [
      "TP is: 522\n",
      "TN is: 2661\n",
      "FP is: 416\n",
      "FN is: 100\n"
     ]
    }
   ],
   "source": [
    "my_matrix_kernel = confusion_matrix(y_test, y_pred_kernel)\n",
    "print(\"TP is:\", my_matrix_kernel[1,1])\n",
    "print(\"TN is:\", my_matrix_kernel[0,0])\n",
    "print(\"FP is:\", my_matrix_kernel[0,1])\n",
    "print(\"FN is:\", my_matrix_kernel[1,0])"
   ]
  },
  {
   "cell_type": "code",
   "execution_count": 94,
   "id": "0c293805",
   "metadata": {},
   "outputs": [
    {
     "name": "stdout",
     "output_type": "stream",
     "text": [
      "Test Accuracy: 0.8318464449851312\n",
      "AUC for nn: 0.43815644962573685\n"
     ]
    }
   ],
   "source": [
    "# Neural network\n",
    "# using sigmoid activation and stochastic gradient descend\n",
    "# Define the MLPClassifier model\n",
    "\n",
    "mlp = MLPClassifier(hidden_layer_sizes=(100,100,100), activation='logistic', solver='sgd', max_iter=1000, random_state=42)\n",
    "\n",
    "# Train the model\n",
    "mlp.fit(x_train_resampled, y_train_resampled)\n",
    "\n",
    "# Predict on the test data\n",
    "y_pred_mlp = mlp.predict(x_test)\n",
    "\n",
    "# Calculate accuracy\n",
    "accuracy = accuracy_score(y_test, y_pred_mlp)\n",
    "print(\"Test Accuracy:\", accuracy)\n",
    "\n",
    "pred_prob = mlp.predict_proba(x_test)[:,1]\n",
    "\n",
    "# Print train, test accuarcay and area under the curve score\n",
    "print(\"AUC for nn:\", roc_auc_score(y_test, pred_prob))"
   ]
  },
  {
   "cell_type": "code",
   "execution_count": 98,
   "id": "f151fd46",
   "metadata": {},
   "outputs": [
    {
     "name": "stdout",
     "output_type": "stream",
     "text": [
      "TP is: 0\n",
      "TN is: 3077\n",
      "FP is: 0\n",
      "FN is: 622\n"
     ]
    }
   ],
   "source": [
    "my_matrix_mlp = confusion_matrix(y_test, y_pred_mlp)\n",
    "print(\"TP is:\", my_matrix_mlp[1,1])\n",
    "print(\"TN is:\", my_matrix_mlp[0,0])\n",
    "print(\"FP is:\", my_matrix_mlp[0,1])\n",
    "print(\"FN is:\", my_matrix_mlp[1,0])"
   ]
  },
  {
   "cell_type": "code",
   "execution_count": 54,
   "id": "5480eb90",
   "metadata": {},
   "outputs": [
    {
     "name": "stdout",
     "output_type": "stream",
     "text": [
      "Explained Variance Ratio: [0.12795852 0.09009383 0.07633825]\n"
     ]
    }
   ],
   "source": [
    "# Principal Component Analysis\n",
    "\n",
    "# Define the number of components \n",
    "n_components = 3  \n",
    "\n",
    "# Initialize PCA\n",
    "pca = PCA(n_components=n_components)\n",
    "\n",
    "# Fit PCA on training data and transform both training and test data\n",
    "x_train_pca = pca.fit_transform(x_train_resampled)\n",
    "x_test_pca = pca.transform(x_test)\n",
    "\n",
    "# Now, x_train_pca and x_test_pca contain the transformed data with reduced dimensions\n",
    "\n",
    "# Print the explained variance ratio to understand how much variance is explained by each component\n",
    "print(\"Explained Variance Ratio:\", pca.explained_variance_ratio_)\n",
    "\n",
    "#need to run it on some model?\n"
   ]
  }
 ],
 "metadata": {
  "kernelspec": {
   "display_name": "Python 3 (ipykernel)",
   "language": "python",
   "name": "python3"
  },
  "language_info": {
   "codemirror_mode": {
    "name": "ipython",
    "version": 3
   },
   "file_extension": ".py",
   "mimetype": "text/x-python",
   "name": "python",
   "nbconvert_exporter": "python",
   "pygments_lexer": "ipython3",
   "version": "3.11.4"
  }
 },
 "nbformat": 4,
 "nbformat_minor": 5
}
